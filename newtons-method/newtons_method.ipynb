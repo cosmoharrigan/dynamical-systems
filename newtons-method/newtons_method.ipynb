{
 "metadata": {
  "name": "",
  "signature": "sha256:fec17181607cf8a40885f5c68e00fe5ea7d052eff23875711a0bc82f5de22933"
 },
 "nbformat": 3,
 "nbformat_minor": 0,
 "worksheets": [
  {
   "cells": [
    {
     "cell_type": "heading",
     "level": 1,
     "metadata": {},
     "source": [
      "Newton's Method: Illustration of a one-dimensional map"
     ]
    },
    {
     "cell_type": "heading",
     "level": 4,
     "metadata": {},
     "source": [
      "Author: Cosmo Harrigan"
     ]
    },
    {
     "cell_type": "markdown",
     "metadata": {},
     "source": [
      "Illustrates Newton's Method, which is a one-dimensional map that has stable fixed points which represent the roots of the given equation. After a small number of iterations, any initial condition will converge to one of the fixed points."
     ]
    },
    {
     "cell_type": "code",
     "collapsed": false,
     "input": [
      "import numpy as np\n",
      "import matplotlib.pyplot as plt\n",
      "%matplotlib inline"
     ],
     "language": "python",
     "metadata": {},
     "outputs": [],
     "prompt_number": 3
    },
    {
     "cell_type": "heading",
     "level": 6,
     "metadata": {},
     "source": [
      "Define the function $g(x)$ that you want to solve, along with its derivative $g'(x)$"
     ]
    },
    {
     "cell_type": "markdown",
     "metadata": {},
     "source": [
      "For example, we will solve $g(x) = x^2-4$, and so $g'(x) = 2x$."
     ]
    },
    {
     "cell_type": "code",
     "collapsed": false,
     "input": [
      "def g(x):\n",
      "    return np.power(x, 2) - 4\n",
      "\n",
      "def g_prime(x):\n",
      "    return 2*x"
     ],
     "language": "python",
     "metadata": {},
     "outputs": [],
     "prompt_number": 4
    },
    {
     "cell_type": "heading",
     "level": 6,
     "metadata": {},
     "source": [
      "Definition of the Newton's Method one-dimensional map"
     ]
    },
    {
     "cell_type": "markdown",
     "metadata": {},
     "source": [
      "$f(x_n) = x_n - \\frac{g(x_n)}{g'(x_n)}$"
     ]
    },
    {
     "cell_type": "code",
     "collapsed": false,
     "input": [
      "def f(x_n):\n",
      "    return x_n - g(x_n) / g_prime(x_n)"
     ],
     "language": "python",
     "metadata": {},
     "outputs": [],
     "prompt_number": 10
    },
    {
     "cell_type": "markdown",
     "metadata": {},
     "source": [
      "**Define the map.** \n",
      "It accepts two parameters: **initial_value** and **steps**"
     ]
    },
    {
     "cell_type": "code",
     "collapsed": false,
     "input": [
      "def iterate_map(initial_value, steps):\n",
      "    x = np.zeros(steps)\n",
      "    x[0] = initial_value\n",
      "\n",
      "    for i in range(steps-1):\n",
      "        x[i+1] = f(x[i])\n",
      "    \n",
      "    return x"
     ],
     "language": "python",
     "metadata": {},
     "outputs": [],
     "prompt_number": 11
    },
    {
     "cell_type": "markdown",
     "metadata": {},
     "source": [
      "Try with an initial value of 1 and run for 10 steps."
     ]
    },
    {
     "cell_type": "code",
     "collapsed": false,
     "input": [
      "x = iterate_map(initial_value=1, steps=10)\n",
      "plt.plot(x);"
     ],
     "language": "python",
     "metadata": {},
     "outputs": [
      {
       "metadata": {},
       "output_type": "display_data",
       "png": "[encoded data removed]",
       "text": [
        "<matplotlib.figure.Figure at 0x10855de90>"
       ]
      }
     ],
     "prompt_number": 12
    },
    {
     "cell_type": "markdown",
     "metadata": {},
     "source": [
      "Now, try with an initial value of 100 and run for 10 steps."
     ]
    },
    {
     "cell_type": "code",
     "collapsed": false,
     "input": [
      "x = iterate_map(initial_value=100, steps=10)\n",
      "plt.plot(x);"
     ],
     "language": "python",
     "metadata": {},
     "outputs": [
      {
       "metadata": {},
       "output_type": "display_data",
       "png": "[encoded data removed]",
       "text": [
        "<matplotlib.figure.Figure at 0x108a19450>"
       ]
      }
     ],
     "prompt_number": 13
    },
    {
     "cell_type": "markdown",
     "metadata": {},
     "source": [
      "Now, search for the other root."
     ]
    },
    {
     "cell_type": "code",
     "collapsed": false,
     "input": [
      "x = iterate_map(initial_value=-1, steps=10)\n",
      "plt.plot(x);"
     ],
     "language": "python",
     "metadata": {},
     "outputs": [
      {
       "metadata": {},
       "output_type": "display_data",
       "png": "[encoded data removed]",
       "text": [
        "<matplotlib.figure.Figure at 0x10864c0d0>"
       ]
      }
     ],
     "prompt_number": 9
    }
   ],
   "metadata": {}
  }
 ]
}